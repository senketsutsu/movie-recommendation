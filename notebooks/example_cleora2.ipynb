{
 "cells": [
  {
   "cell_type": "code",
   "execution_count": 1,
   "metadata": {},
   "outputs": [],
   "source": [
    "import random\n",
    "\n",
    "import numpy as np\n",
    "import pandas as pd\n",
    "from pycleora import SparseMatrix\n"
   ]
  },
  {
   "cell_type": "code",
   "execution_count": 2,
   "metadata": {},
   "outputs": [],
   "source": [
    "\n",
    "# Generate example data\n",
    "customers = [f\"Customer_{i}\" for i in range(1, 20)]\n",
    "products = [f\"Product_{j}\" for j in range(1, 20)]\n",
    "\n",
    "data = {\n",
    "    \"customer\": random.choices(customers, k=100),\n",
    "    \"product\": random.choices(products, k=100),\n",
    "}\n",
    "\n",
    "# Create DataFrame\n",
    "df = pd.DataFrame(data)\n",
    "\n",
    "# Create hyperedges\n",
    "customer_products = df.groupby('customer')['product'].apply(list).values\n"
   ]
  },
  {
   "cell_type": "code",
   "execution_count": 10,
   "metadata": {},
   "outputs": [
    {
     "data": {
      "text/html": [
       "<div>\n",
       "<style scoped>\n",
       "    .dataframe tbody tr th:only-of-type {\n",
       "        vertical-align: middle;\n",
       "    }\n",
       "\n",
       "    .dataframe tbody tr th {\n",
       "        vertical-align: top;\n",
       "    }\n",
       "\n",
       "    .dataframe thead th {\n",
       "        text-align: right;\n",
       "    }\n",
       "</style>\n",
       "<table border=\"1\" class=\"dataframe\">\n",
       "  <thead>\n",
       "    <tr style=\"text-align: right;\">\n",
       "      <th></th>\n",
       "      <th>customer</th>\n",
       "      <th>product</th>\n",
       "    </tr>\n",
       "  </thead>\n",
       "  <tbody>\n",
       "    <tr>\n",
       "      <th>0</th>\n",
       "      <td>Customer_17</td>\n",
       "      <td>Product_14</td>\n",
       "    </tr>\n",
       "    <tr>\n",
       "      <th>1</th>\n",
       "      <td>Customer_15</td>\n",
       "      <td>Product_2</td>\n",
       "    </tr>\n",
       "    <tr>\n",
       "      <th>2</th>\n",
       "      <td>Customer_7</td>\n",
       "      <td>Product_14</td>\n",
       "    </tr>\n",
       "    <tr>\n",
       "      <th>3</th>\n",
       "      <td>Customer_16</td>\n",
       "      <td>Product_6</td>\n",
       "    </tr>\n",
       "    <tr>\n",
       "      <th>4</th>\n",
       "      <td>Customer_8</td>\n",
       "      <td>Product_16</td>\n",
       "    </tr>\n",
       "  </tbody>\n",
       "</table>\n",
       "</div>"
      ],
      "text/plain": [
       "      customer     product\n",
       "0  Customer_17  Product_14\n",
       "1  Customer_15   Product_2\n",
       "2   Customer_7  Product_14\n",
       "3  Customer_16   Product_6\n",
       "4   Customer_8  Product_16"
      ]
     },
     "execution_count": 10,
     "metadata": {},
     "output_type": "execute_result"
    }
   ],
   "source": [
    "df.head()"
   ]
  },
  {
   "cell_type": "code",
   "execution_count": 3,
   "metadata": {},
   "outputs": [
    {
     "data": {
      "text/html": [
       "<div>\n",
       "<style scoped>\n",
       "    .dataframe tbody tr th:only-of-type {\n",
       "        vertical-align: middle;\n",
       "    }\n",
       "\n",
       "    .dataframe tbody tr th {\n",
       "        vertical-align: top;\n",
       "    }\n",
       "\n",
       "    .dataframe thead th {\n",
       "        text-align: right;\n",
       "    }\n",
       "</style>\n",
       "<table border=\"1\" class=\"dataframe\">\n",
       "  <thead>\n",
       "    <tr style=\"text-align: right;\">\n",
       "      <th></th>\n",
       "      <th>customer</th>\n",
       "      <th>product</th>\n",
       "    </tr>\n",
       "  </thead>\n",
       "  <tbody>\n",
       "    <tr>\n",
       "      <th>61</th>\n",
       "      <td>Customer_1</td>\n",
       "      <td>Product_9</td>\n",
       "    </tr>\n",
       "    <tr>\n",
       "      <th>63</th>\n",
       "      <td>Customer_1</td>\n",
       "      <td>Product_11</td>\n",
       "    </tr>\n",
       "    <tr>\n",
       "      <th>93</th>\n",
       "      <td>Customer_1</td>\n",
       "      <td>Product_16</td>\n",
       "    </tr>\n",
       "    <tr>\n",
       "      <th>94</th>\n",
       "      <td>Customer_1</td>\n",
       "      <td>Product_10</td>\n",
       "    </tr>\n",
       "    <tr>\n",
       "      <th>98</th>\n",
       "      <td>Customer_1</td>\n",
       "      <td>Product_5</td>\n",
       "    </tr>\n",
       "  </tbody>\n",
       "</table>\n",
       "</div>"
      ],
      "text/plain": [
       "      customer     product\n",
       "61  Customer_1   Product_9\n",
       "63  Customer_1  Product_11\n",
       "93  Customer_1  Product_16\n",
       "94  Customer_1  Product_10\n",
       "98  Customer_1   Product_5"
      ]
     },
     "execution_count": 3,
     "metadata": {},
     "output_type": "execute_result"
    }
   ],
   "source": [
    "df[df[\"customer\"]==\"Customer_1\"]"
   ]
  },
  {
   "cell_type": "code",
   "execution_count": 4,
   "metadata": {},
   "outputs": [
    {
     "data": {
      "text/plain": [
       "['Product_9', 'Product_11', 'Product_16', 'Product_10', 'Product_5']"
      ]
     },
     "execution_count": 4,
     "metadata": {},
     "output_type": "execute_result"
    }
   ],
   "source": [
    "customer_products[0]"
   ]
  },
  {
   "cell_type": "code",
   "execution_count": 5,
   "metadata": {},
   "outputs": [],
   "source": [
    "\n",
    "# Convert to Cleora input format\n",
    "cleora_input = map(lambda x: ' '.join(x), customer_products)\n"
   ]
  },
  {
   "cell_type": "code",
   "execution_count": 6,
   "metadata": {},
   "outputs": [
    {
     "name": "stdout",
     "output_type": "stream",
     "text": [
      "['Product_9', 'Product_11', 'Product_16', 'Product_10', 'Product_5', 'Product_2', 'Product_13', 'Product_17', 'Product_3', 'Product_1', 'Product_19', 'Product_14', 'Product_7', 'Product_18', 'Product_6', 'Product_4', 'Product_15', 'Product_8', 'Product_12']\n"
     ]
    }
   ],
   "source": [
    "\n",
    "# Create Markov transition matrix for the hypergraph\n",
    "mat = SparseMatrix.from_iterator(cleora_input, columns='complex::reflexive::product')\n",
    "\n",
    "# Look at entity ids in the matrix, corresponding to embedding vectors\n",
    "print(mat.entity_ids)\n",
    "# ['Product_5', 'Product_3', 'Product_2', 'Product_4', 'Product_1']\n",
    "\n",
    "# Initialize embedding vectors externally, using text, image, random vectors\n",
    "# embeddings = ...\n",
    "\n",
    "# Or use built-in random deterministic initialization\n",
    "embeddings = mat.initialize_deterministically(1024)\n",
    "\n"
   ]
  },
  {
   "cell_type": "code",
   "execution_count": 7,
   "metadata": {},
   "outputs": [
    {
     "name": "stdout",
     "output_type": "stream",
     "text": [
      "Product_9 [-0.06257404  0.06375309 -0.00484251 ...  0.09930901 -0.02396393\n",
      " -0.01025797]\n",
      "Product_11 [-0.04680848  0.05156246 -0.00165294 ...  0.09317391 -0.01833735\n",
      "  0.00064596]\n",
      "Product_16 [-0.03287907  0.03268932  0.01764641 ...  0.09368931 -0.02287238\n",
      "  0.00015796]\n",
      "Product_10 [-0.02613788  0.02963978  0.02689312 ...  0.08956334 -0.02288911\n",
      "  0.00383349]\n",
      "Product_5 [-0.04588095  0.0446549  -0.00884243 ...  0.09252467 -0.01239008\n",
      " -0.00271966]\n",
      "Product_2 [-0.03039401  0.03658994  0.00766213 ...  0.0897934  -0.01633884\n",
      "  0.00652312]\n",
      "Product_13 [-0.0225957   0.03074767  0.02951849 ...  0.08883275 -0.02475371\n",
      "  0.00871953]\n",
      "Product_17 [-0.01534201  0.02004776  0.03644207 ...  0.08440638 -0.02676416\n",
      "  0.01135574]\n",
      "Product_3 [-0.01789637  0.02054818  0.01917115 ...  0.08761455 -0.01536821\n",
      "  0.00852353]\n",
      "Product_1 [-0.00723398  0.01748507  0.02216135 ...  0.08479065 -0.01095192\n",
      "  0.00181495]\n",
      "Product_19 [-0.01972033  0.02514308  0.01831969 ...  0.08596507 -0.01668355\n",
      "  0.01013268]\n",
      "Product_14 [-0.01031029  0.01546408  0.03415703 ...  0.08535457 -0.01956846\n",
      "  0.00762744]\n",
      "Product_7 [-0.01498456  0.01914705  0.04046169 ...  0.08343146 -0.02951539\n",
      "  0.01005229]\n",
      "Product_18 [-0.05044505  0.05688233  0.01077637 ...  0.09663503 -0.02764123\n",
      " -0.00680507]\n",
      "Product_6 [-0.02475297  0.02788996  0.00439135 ...  0.08730543 -0.01128684\n",
      "  0.00771713]\n",
      "Product_4 [-0.00078622  0.00670288  0.0195192  ...  0.08095364 -0.00421159\n",
      "  0.00063639]\n",
      "Product_15 [-0.03932282  0.03288478 -0.01641192 ...  0.08238406 -0.00327427\n",
      " -0.00451701]\n",
      "Product_8 [-0.0232718   0.02102198 -0.00041686 ...  0.08365917 -0.00385811\n",
      " -0.00172883]\n",
      "Product_12 [-0.01723621  0.01440481  0.01329293 ...  0.08949471 -0.00841189\n",
      "  0.00133924]\n"
     ]
    }
   ],
   "source": [
    "# Perform Markov random walk, then normalize however many times we want\n",
    "\n",
    "NUM_WALKS = 3   # The optimal number depends on the graph, typically between 3 and 7 yields good results\n",
    "                # lower values tend to capture co-occurrence, higher iterations capture substitutability in a context\n",
    "\n",
    "for i in range(NUM_WALKS):\n",
    "    # Can propagate with a symmetric matrix as well, but left Markov is a great default\n",
    "    embeddings = mat.left_markov_propagate(embeddings)\n",
    "    # Normalize with L2 norm by default, for the embeddings to reside on a hypersphere. Can use standardization instead.\n",
    "    embeddings /= np.linalg.norm(embeddings, ord=2, axis=-1, keepdims=True)\n",
    "\n",
    "# We're done, here are our embeddings\n",
    "\n",
    "for entity, embedding in zip(mat.entity_ids, embeddings):\n",
    "    print(entity, embedding)\n",
    "\n",
    "# We can now compare our embeddings with dot product (since they are L2 normalized)\n"
   ]
  },
  {
   "cell_type": "code",
   "execution_count": 8,
   "metadata": {},
   "outputs": [
    {
     "name": "stdout",
     "output_type": "stream",
     "text": [
      "0.953177\n",
      "0.8523312\n",
      "0.84724545\n"
     ]
    }
   ],
   "source": [
    "\n",
    "print(np.dot(embeddings[0], embeddings[1]))\n",
    "print(np.dot(embeddings[0], embeddings[2]))\n",
    "print(np.dot(embeddings[0], embeddings[3]))"
   ]
  }
 ],
 "metadata": {
  "kernelspec": {
   "display_name": "movie-recommendation-KK-5LRNj",
   "language": "python",
   "name": "python3"
  },
  "language_info": {
   "codemirror_mode": {
    "name": "ipython",
    "version": 3
   },
   "file_extension": ".py",
   "mimetype": "text/x-python",
   "name": "python",
   "nbconvert_exporter": "python",
   "pygments_lexer": "ipython3",
   "version": "3.12.3"
  }
 },
 "nbformat": 4,
 "nbformat_minor": 2
}
